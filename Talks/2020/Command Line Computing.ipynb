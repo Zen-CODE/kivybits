{
 "cells": [
  {
   "cell_type": "markdown",
   "metadata": {
    "slideshow": {
     "slide_type": "slide"
    }
   },
   "source": [
    "<img src=\"https://upload.wikimedia.org/wikipedia/commons/7/7a/Crystal_Clear_app_konsole.png\" align=\"right\" width=\"64\" height=\"64\" />\n",
    "\n",
    "## Linux and Command Line Computing ala POSIX\n",
    "\n",
    "An introduction to Linux, POSIX and command line yumminesss.\n",
    "\n",
    "By Richard Larkin"
   ]
  },
  {
   "cell_type": "markdown",
   "metadata": {
    "slideshow": {
     "slide_type": "slide"
    }
   },
   "source": [
    "<img src=\"https://upload.wikimedia.org/wikipedia/commons/d/d5/Crystal_Clear_action_db_status.png\" align=\"right\" width=\"64\" height=\"64\" />\n",
    "\n",
    "## Why?\n",
    "\n",
    "Although using GUI's (Graphicl User Interfaces) is easier and more popular, using the command line to control computers has several advanges:\n",
    "\n",
    "* can issue infintiely more commands than are visually presented.\n",
    "* easier to reproduce and communicate.\n",
    "* support scripting.\n",
    "* more flexible - supports chaining of commands i.e. feeding the output of one command to another.\n",
    "* can work without a GUI (fewer resources) or mouse.\n",
    "* can be used remotely (ssh)."
   ]
  },
  {
   "cell_type": "markdown",
   "metadata": {
    "slideshow": {
     "slide_type": "slide"
    }
   },
   "source": [
    " <img src=\"https://upload.wikimedia.org/wikipedia/commons/b/bd/Crystal_Clear_app_linuxconf.png\" align=\"right\" width=\"64\" height=\"64\" />\n",
    "\n",
    " ## The Rise of Linux\n",
    " \n",
    " Linux became the standard for server side computing for various reasons, such as:\n",
    " * its small and lightweight.\n",
    " * it does not require a graphical interface (suitable for servers).\n",
    " * its flexible and extensible (small tools chained together).\n",
    " * its free i.e. in legal terms, you own your own copy.\n",
    " * its open source i.e. code can be inspected, checked and changed.\n",
    " \n",
    " The freedom to change and modify the source code was fundamental as companies could easily re-use the code for their own purposes. It removed any dependencies on commercial vendors and prevented solution \"lock-in\"."
   ]
  },
  {
   "cell_type": "markdown",
   "metadata": {
    "slideshow": {
     "slide_type": "slide"
    }
   },
   "source": [
    "<img src=\"https://upload.wikimedia.org/wikipedia/commons/6/69/Crystal_Clear_app_background.png\" align=\"right\" width=\"64\" height=\"64\" />\n",
    "\n",
    "## Teminals, Shells and Consoles\n",
    "\n",
    "These terms are often used interchageably, and to some extent, they are interchangeable. But there is a difference. In summary:\n",
    "\n",
    "* `terminal` - tty = text input/output environment.\n",
    "* `console` - physical terminal i.e. a concrete implementation of a terminal.\n",
    "* `shell` - command interpreter for unix like execution environments.\n",
    "\n",
    "Shells are probably the most important to distinguish because they define our commands behviour.\n"
   ]
  },
  {
   "cell_type": "markdown",
   "metadata": {
    "slideshow": {
     "slide_type": "slide"
    }
   },
   "source": [
    "<img src=\"https://upload.wikimedia.org/wikipedia/commons/0/04/Crystal_Clear_app_samba.png\" align=\"right\" width=\"64\" height=\"64\" />\n",
    "\n",
    "## Terminals as Cross Platform Interfaces\n",
    "\n",
    "Although Operating Systems vary wildly in their technical implementation, most expose a *POSIX* compatible interface via the command line.\n",
    "\n",
    "* *POSIX* stands for Portable Operating System Interface, and is an IEEE (Institute of Electrical and Electronics Engineers ) standard designed to facilitate application portability. POSIX is an attempt by a consortium of vendors to create a single standard version of UNIX.\n",
    "\n",
    "POSIX defines the application programming interface (API), along with command line shells and libraries, for software compatibility with variants of Unix and other operating systems.\n",
    "\n",
    "Please see the [Wikipedia POSIX page](https://en.wikipedia.org/wiki/POSIX) for more on *POSIX*.\n",
    "\n",
    "<img src=\"terminal.png\" align=\"center\" width=\"500\" height=\"350\"/>\n"
   ]
  },
  {
   "cell_type": "markdown",
   "metadata": {
    "slideshow": {
     "slide_type": "slide"
    }
   },
   "source": [
    "<img src=\"https://upload.wikimedia.org/wikipedia/commons/1/1f/Crystal_Clear_app_All_software_is_current.png\" align=\"right\" width=\"64\" height=\"64\" />\n",
    "\n",
    "## Getting Started\n",
    "\n",
    "There are many choices of Terminal applicatons. Common ones are:\n",
    "\n",
    "* `terminal` - built in MacOS terminal.\n",
    "* `iTerm` - more customizable terminal for MacOS.\n",
    "* `hyper` - modern, pretty, HTML5 based terminal .\n",
    "* `kitty` - pretty, customizable, cross platform.\n",
    "* `guake` - advanced linux terminal with neat desktop intgration.\n",
    "* many, many others. See the [Wikipedia Terminal Emulator](https://en.wikipedia.org/wiki/List_of_terminal_emulators) page for more.\n",
    "\n",
    "Choose one. They all work. For this demo, we'll use the one provide by this Jupyter notebook. Because Jupyter rules!"
   ]
  },
  {
   "cell_type": "markdown",
   "metadata": {
    "slideshow": {
     "slide_type": "slide"
    }
   },
   "source": [
    "<img src=\"https://upload.wikimedia.org/wikipedia/commons/1/10/Crystal_Clear_app_Network_Connection_Manager.png\" align=\"right\" width=\"64\" height=\"64\" />\n",
    "\n",
    "## Shells\n",
    "\n",
    "Shells we care about most because they decide the functionailty of our terminal. i.e. The commands we use are provided by our shell.\n",
    "\n",
    "There are most common shells are:\n",
    "* `bash` - ubuntu default, MacOS default before Catlalina..\n",
    "* `zsh` - more modern, feature rich. New default for MacOS Catalina.\n",
    "* `sh` - Bourne shell, one of the oldest.\n",
    "* `ssh` - Secure shell, still widely used for secure, remote terminal access.\n",
    "* `cmd.exe` - Windows command line utility. Not technically a shell, but provides similar functionlity on windows.\n",
    "* `powershell` - modern Windows utility with powerful programming language integration.\n",
    "* many more, but of lesser importance.\n",
    " \n",
    "Shells allows us to issue commands to the underlying operating system, be that for creating files, moving files, invoking programs or manipulating them.\n"
   ]
  },
  {
   "cell_type": "markdown",
   "metadata": {
    "slideshow": {
     "slide_type": "slide"
    }
   },
   "source": [
    "<img src=\"https://upload.wikimedia.org/wikipedia/commons/6/67/Crystal_Project_Kblackbox.png\" align=\"right\" width=\"64\" height=\"64\" />\n",
    "\n",
    "## Where? What? Who? How?\n",
    "\n",
    "Let's get started with some basic commands.\n",
    "\n",
    "* `pwd` - \"Present working directory\" - gives your current *active* directory in the file system.\n",
    "* `whoami` - gives the current username that you are logged in with.\n",
    "* `which <cmd>` - gives the full path to the command specified.\n",
    "* `man <cmd>` - display the help and options for a given command.\n"
   ]
  },
  {
   "cell_type": "markdown",
   "metadata": {
    "slideshow": {
     "slide_type": "slide"
    }
   },
   "source": [
    "<img src=\"https://upload.wikimedia.org/wikipedia/commons/d/d0/Crystal_Clear_app_key_bindings.png\" align=\"right\" width=\"64\" height=\"64\" />\n",
    "\n",
    "## Common Useful Keyboard Shortcuts\n",
    "\n",
    "Although each terminal application tends to have it's own shortcut keys and configuration, most support these common shortcuts keys.\n",
    "\n",
    "* `up arrow` - show your previous command.\n",
    "* `tab` - autocomplete the file name if possible.\n",
    "* `control + r` - open an interactive search over your previous commands.\n",
    "* `alt + right arrow` - move forward one word.\n",
    "* `alt + left arrow` - move backwards on word.\n"
   ]
  },
  {
   "cell_type": "markdown",
   "metadata": {
    "slideshow": {
     "slide_type": "slide"
    }
   },
   "source": [
    "<img src=\"https://upload.wikimedia.org/wikipedia/commons/0/08/Crystal_Clear_filesystem_folder_blue.png\" align=\"right\" width=\"64\" height=\"64\" />\n",
    "\n",
    "## Directories\n",
    "\n",
    "The following commands help you navigate, create and remove directories.\n",
    "\n",
    "* `cd <dir>` - change your active directory to the one specified.\n",
    "  * `cd .` - moved one directory up.\n",
    "  * `cd -` - move back to the last directory you where in.\n",
    "  * `cd ~` - move to the current users home folder.\n",
    "  * `cd /` - move to the root of the file system.\n",
    "* `mkdir <dir>` - create a directory.\n",
    "* `rm -rf <dir>` - remove a directory and everything in it. Powerful! Be careful!\n",
    "* `mv <source_dir> <dest_dir>` - move or rename a folder.\n",
    "\n",
    "**Hint**: Use tab autocompletion to check valid folder names!\n"
   ]
  },
  {
   "cell_type": "markdown",
   "metadata": {
    "slideshow": {
     "slide_type": "slide"
    }
   },
   "source": [
    "<img src=\"https://upload.wikimedia.org/wikipedia/commons/2/24/Crystal_Clear_mimetype_document2.png\" align=\"right\" width=\"64\" height=\"64\" />\n",
    "\n",
    "## Files\n",
    "\n",
    "The command line gives us tremendous power to:\n",
    "* create, view, extract and process files.\n",
    "* pass the output of one command to another commands.\n",
    "* chain commands and outputs together to perform powerful:\n",
    "  * searches.\n",
    "  * modifications.\n",
    "  * replacemets.\n",
    "  * extractions.\n",
    "\n",
    "These abilities emerge from the unix philosophy of small, dedicated, focused utilities which can be combined and used togther. In this way, we have a tool where the result is greater than the sum of it's parts.\n"
   ]
  },
  {
   "cell_type": "markdown",
   "metadata": {
    "slideshow": {
     "slide_type": "slide"
    }
   },
   "source": [
    "<img src=\"https://upload.wikimedia.org/wikipedia/commons/e/e9/Crystal_Clear_app_korganizer.png\" align=\"right\" width=\"64\" height=\"64\" />\n",
    "\n",
    "## Creating and Writing to Files\n",
    "\n",
    "File manipulation forms the basis of how we interact with and manipulte stored data.\n",
    "\n",
    "### Creating\n",
    "\n",
    "* `touch <file_name>` - create a new file with the given name.\n",
    "* `> <file_name>` - a more concise way to create a file.\n",
    "* `echo \"<text>\" > <file_name>` - create a file and fill it with the given `<text>`\n",
    "* `cp <source> <dest>` - copy the `<source>` file to the `<dest>`\n",
    "\n",
    "### Writing\n",
    "\n",
    "* `echo \"<text>\" >> <file_name>` - append the `<text>` to the end of the file.\n",
    "* `echo -e \"<text>\" >> <file_name>` - append the `<text>` to the file as a new line.\n",
    "\n",
    "Of course, you can also use editors to create and write to files, but with these tools, you can script it."
   ]
  },
  {
   "cell_type": "markdown",
   "metadata": {
    "slideshow": {
     "slide_type": "slide"
    }
   },
   "source": [
    "## Reading and Finding Files\n",
    "\n",
    "Most jobs involve finding, reading and proces data in files. For that, we can use the following utilities.\n",
    "\n",
    "### Reading\n",
    "\n",
    "* `cat <file_name>` - show the contents of a file.\n",
    "* `head <file_name>` - show the first 10 lines of a file.\n",
    "* `tail <file_name>` - show the last 10 lines of a file.\n",
    "* `more <file_name>` - open a file and page forwards through it.\n",
    "* `less <file_name>` - open a file and page forwards and backwards through it.\n",
    "\n",
    "### Finding\n",
    "\n",
    "* `find <option> <path> <expression>` - search for files in the requested `<path>` that match the `<expressions>` and prints their paths.\n",
    "  For example:\n",
    "  ```\n",
    "  find /home/Pictures -name *.jpg\n",
    "  ```\n",
    "  would print the full paths to all the files with a \"jpg\" extension in the \"/home/Pictures\" folder.\n",
    " \n",
    "`find` can also be used together with `grep` to find files that contain certain text. For example:\n",
    "```\n",
    "find . -type f -exec grep \"example\" '{}' \\; -print\n",
    "```\n",
    "would search all the files in the current directory and dispaly the filename and line of any that contain the text \"example\".\n"
   ]
  },
  {
   "cell_type": "markdown",
   "metadata": {
    "slideshow": {
     "slide_type": "slide"
    }
   },
   "source": [
    "<img src=\"https://upload.wikimedia.org/wikipedia/commons/4/43/Crystal_Clear_app_password.png\" align=\"right\" width=\"64\" height=\"64\" />\n",
    "\n",
    "## File System Attributes and Permissions\n",
    "\n",
    "In order to manage access rights and permssions, Operating systems generally attached attributes to files. We can see these using the `-l` flag for the `ls` command.\n",
    "\n",
    "* `ls -l <folder>` - display the contents of the folder with it's permissions.\n",
    "\n",
    "These attributes are shown in 10 columns. \n",
    "* The first column indicates whether it's a directory, a symlink or a file.\n",
    "  * `d` - a directory\n",
    "  * `l` - a symlink (see symlink discussion later)\n",
    "  * `-` - a normal file\n",
    "* the next 9 columns show read, write and execute permissions respectively.\n",
    "  * `r` - readable\n",
    "  * `w` - writable\n",
    "  * `x` - executable\n",
    "* each group of three lists the permisions for the user (owner), the group and other (everyone else) respectively.\n",
    "\n",
    "e.g. \n",
    "```\n",
    "-rw-r--r--   1 richard  staff    25 Apr  6 21:05 newfile.txt\n",
    "```\n",
    "indicates that for `newfile.txt`, the user can read and write to it, but the group and everyone can only read it. This is the default when creating a new file."
   ]
  },
  {
   "cell_type": "markdown",
   "metadata": {
    "slideshow": {
     "slide_type": "slide"
    }
   },
   "source": [
    "<img src=\"https://upload.wikimedia.org/wikipedia/commons/5/5c/Crystal_Clear_app_package_settings.png\" align=\"right\" width=\"64\" height=\"64\" />\n",
    "\n",
    "## Changing File Permissions\n",
    "\n",
    "We can change file permssions using the `chmod` command.\n",
    "\n",
    "* `chmod [options] <permissions> <file/folder>` - sets the attributes on a given file or folder.\n",
    "\n",
    "e.g. \n",
    "```\n",
    "chmod u=rwx,g=rx,o=r myfile\n",
    "```\n",
    "would give the user read, write and execute permissions, the users group read and execute permssions and others read only permissions.\n",
    "\n",
    "For a full discussion of `chmod`, see the [Wikipedia page](https://en.wikipedia.org/wiki/Chmod)"
   ]
  },
  {
   "cell_type": "markdown",
   "metadata": {
    "slideshow": {
     "slide_type": "slide"
    }
   },
   "source": [
    "<img src=\"https://upload.wikimedia.org/wikipedia/commons/1/10/Crystal_Clear_app_Network_Connection_Manager.png\" align=\"right\" width=\"64\" height=\"64\" />\n",
    "\n",
    "## Command Line Text Editors\n",
    "\n",
    "There are many command line text editors for creating and editing files on disk. So of the more common ones are:\n",
    "\n",
    "* `vi` - simplest and most prevalent editor. Useful as it's present in most containers ad operating systems. Uses a \"macro\" language.\n",
    "* `vim` - vi enhanced, with more features and functions.\n",
    "* `nano` - another lightweight editor.\n",
    "* `emacs` - another highly popular editor, but can also perform file management, terminal emulation and more.\n",
    "\n",
    "For a complete list, see the [Wikipedia Text Editor page](https://en.wikipedia.org/wiki/List_of_text_editors)"
   ]
  },
  {
   "cell_type": "markdown",
   "metadata": {
    "slideshow": {
     "slide_type": "slide"
    }
   },
   "source": [
    "<img src=\"https://upload.wikimedia.org/wikipedia/commons/9/91/Crystal_Project_app_kfouleggs.png\" align=\"right\" width=\"64\" height=\"64\" />\n",
    "\n",
    "## Connecting Commands\n",
    "\n",
    "The commands we've looked at so far get us started, but do nothing special on their own. To unleash the beastly power of the commnad line, we need a way to make them work together. The simplest method is the pipe operator.\n",
    "\n",
    "### The Pipe\n",
    "\n",
    "* `|` - the \"pipe\" operator directs the output of one command to the input of another. e.g. the following example feeds the output of the `ls` command into the `more` command, allowing us to page through a directory listing.\n",
    "```\n",
    "$ ls /etc | more\n",
    "```\n",
    "\n",
    "The pipe is crucial in allowing us to feed to the output of one command as the input into another command using standard input and output i.e. `stdin` and `stdout`."
   ]
  },
  {
   "cell_type": "markdown",
   "metadata": {
    "slideshow": {
     "slide_type": "slide"
    }
   },
   "source": [
    "<img src=\"https://upload.wikimedia.org/wikipedia/commons/4/45/Crystal_Clear_app_proxy.png\" align=\"right\" width=\"64\" height=\"64\" />\n",
    "\n",
    "## Connecting Commands via Arguments\n",
    "\n",
    "Some commands or programs require input via arguments, not via `stdin` or `stdout`. For these, we can use `xargs`. \n",
    "\n",
    "* `xargs <command>` - take input from `stdout` and feed it, as arguments to `<command>`. e.g.\n",
    "```\n",
    "echo 'one two' | xargs mkdir\n",
    "```\n",
    "will create two directories, \"one\" and \"two\". To create a single directory called \"one two\", we would escape the space.\n",
    "```\n",
    "echo 'one\\ two' | xargs mkdir\n",
    "```\n",
    "\n",
    "In another example, the following line would create a new file for each line of `filelist.txt`.\n",
    "```\n",
    "cat filelist.txt | xargs touch\n",
    "```\n",
    "\n"
   ]
  },
  {
   "cell_type": "markdown",
   "metadata": {
    "slideshow": {
     "slide_type": "slide"
    }
   },
   "source": [
    "<img src=\"https://upload.wikimedia.org/wikipedia/commons/a/ae/Quick_restart.png\" align=\"right\" width=\"64\" height=\"64\" />\n",
    "\n",
    "## Processing Commands with \"grep\"\n",
    "\n",
    "Next, we need commands to help as search, extract and manipulate data.\n",
    "\n",
    "### Regular Expressions\n",
    "\n",
    "Regular expressions give us a powerful, flexible and simple way to search text. For this, we have the `grep` command - \"Get REgular exPression\"\n",
    "* `grep <pattern> <files>` - search through the `<files>` for lines which match the `<pattern>`.\n",
    "\n",
    "It is often used a filter, to process the output of one command and present only the items we are interested in. e.g.\n",
    "```\n",
    "ls /etc | grep sudo\n",
    "```\n",
    "would give us a listing of only the files in the `/etc` folder that contain the string \"sudo\"\n",
    "\n",
    "\n"
   ]
  },
  {
   "cell_type": "markdown",
   "metadata": {
    "slideshow": {
     "slide_type": "slide"
    }
   },
   "source": [
    "<img src=\"https://upload.wikimedia.org/wikipedia/commons/3/35/Crystal_Clear_app_knode.png\" align=\"right\" width=\"64\" height=\"64\" />\n",
    "\n",
    "## Processing Commands with \"awk\"\n",
    "\n",
    "`awk` is a domain-specific language designed for text processing and typically used as a data extraction and reporting tool. It is a standard feature of most Unix-like operating systems. \n",
    "\n",
    "* `awk <options> '<selection _criteria> {<action>}' <input-file> > <output-file>` - Take the `<input_file>`, search for text matching the `<selection_criteria>`, apply the `<action>` and put the results in the `<output_file>`\n",
    "\n",
    "That quite a lengthy command, but in practice, it's quite simple to use. For example:\n",
    "```\n",
    "awk '{print NR,$0}' employee.txt\n",
    "```\n",
    "prints each line of the \"exployee.txt\" file with the corresponding line number before it. `awk` is powerful tool and contains way more abilities than can be discussed here. Please see the [Wikipedia AWK article](https://en.wikipedia.org/wiki/AWK) for more detail.\n"
   ]
  },
  {
   "cell_type": "markdown",
   "metadata": {
    "slideshow": {
     "slide_type": "slide"
    }
   },
   "source": [
    "<img src=\"https://upload.wikimedia.org/wikipedia/commons/5/5c/Crystal_Clear_filesystem_desktop.png\" align=\"right\" width=\"64\" height=\"64\" />\n",
    "\n",
    "## Changing Files In Place\n",
    "\n",
    "It's a common use case that we want to replace all instances of string in a file with another string. This can be done using the `sed` command: the \"Stream EDitor\".\n",
    "\n",
    "* `sed <options> <file_name>` - perform insertion, deletion, search or replace on the given `<file_name>`. e.g.\n",
    "```\n",
    "sed 's/bobs/zibs/' test.txt > newfile.txt\n",
    "```\n",
    "would replace all \"bobs\" in the \"text.txt\" file with \"zibs\" and store the results in \"newfile.txt\". To perform the replacement in the original file, we can use the `-i` option.\n",
    "```\n",
    "sed -i 's/bobs/zibs/g' test.txt\n",
    "```\n",
    "\n",
    "*Note:* For some reason, on MacOS, we need an '' after `-i` i.e. `sed -i '' 's/bobs/zibs/g' test.txt`\n",
    "\n",
    "\n",
    "\n",
    "\n"
   ]
  },
  {
   "cell_type": "markdown",
   "metadata": {
    "slideshow": {
     "slide_type": "slide"
    }
   },
   "source": [
    "<img src=\"https://upload.wikimedia.org/wikipedia/commons/a/a8/Crystal_Clear_app_ksnake.png\" align=\"right\" width=\"64\" height=\"64\" />\n",
    "\n",
    "## Creating Scripts\n",
    "\n",
    "Scripts are simply text files that contain instructions that can be understood or executed by an internal command or interpreter.\n",
    "\n",
    "As an example, we can create a simple `zsh` script as follows:\n",
    "```\n",
    "#! /bin/zsh\n",
    "<instruction line 1>\n",
    "<instruction line 2>\n",
    "```\n",
    "e.g.\n",
    "```\n",
    "#! /bin/zsh\n",
    "ls | echo \"This contents of this folder are:\"\n",
    "```\n",
    "This file, when executed, will print \"The contents of this folder are:\" followed by a listing of the files and folders in the current directory.\n",
    "\n",
    "*Note:* Although the shebang (`#!`) is not strictly required, it tells the operating system it is an exectable and how to execute it. There are many reasons to use it. For further reading, see the [Wikipedia Shebang article](https://en.wikipedia.org/wiki/Shebang_(Unix)).\n",
    "\n",
    "\n"
   ]
  },
  {
   "cell_type": "markdown",
   "metadata": {
    "slideshow": {
     "slide_type": "slide"
    }
   },
   "source": [
    "<img src=\"https://upload.wikimedia.org/wikipedia/commons/d/d5/Crystal_Clear_action_db_status.png\" align=\"right\" width=\"64\" height=\"64\" />\n",
    "\n",
    "## Invoking Scripts\n",
    "\n",
    "There are two main ways to execute scripts.\n",
    "* manually invoke the script by passing them as arguments to a command e.g. `sh scipt.sh` or `python main.py`.\n",
    "* by marking the script as executable and invoking it directly e.g.\n",
    "```\n",
    "chmod +x script.sh\n",
    "./script.sh\n",
    "```\n",
    "\n",
    "*Note:* when using the second approch, notice that we specify the current folder for the scripts location, otherwise the OS will typically only look in the systems PATH. This is deliberate and for security reasons. Without this behavior, locally placed files could maliciously intercept commands and alter the desired behavior.\n"
   ]
  },
  {
   "cell_type": "markdown",
   "metadata": {
    "slideshow": {
     "slide_type": "slide"
    }
   },
   "source": [
    "<img src=\"https://upload.wikimedia.org/wikipedia/commons/4/42/Crystal_Clear_app_web.png\" align=\"right\" width=\"64\" height=\"64\" />\n",
    "\n",
    "## Symlinks - \"With great power....\"\n",
    "\n",
    "Symlinks are symbolic links. They appear as file system objects but are effectively just pointers to other files and folders. They are useful for accessing the same file from various places or paths. Instead of making \"copies\", a symlink just \"points\" to the original file and *makes it appear like it is in multiple places!*\n",
    "\n",
    "* `ln -s <file/folder> <linkname>` - create a symbolic to the `<file/folder>` called `<linkname>`.\n",
    "\n",
    "*Warning:* Symbolic links are very powerful in terms of linking, sharing and preventing data duplication, but they also make it very easy to delete and modify data unintentionally. Beware.\n"
   ]
  },
  {
   "cell_type": "markdown",
   "metadata": {
    "slideshow": {
     "slide_type": "slide"
    }
   },
   "source": [
    "<img src=\"https://upload.wikimedia.org/wikipedia/commons/3/31/Crystal_Clear_app_antivirus.png\" align=\"right\" width=\"64\" height=\"64\" />\n",
    "\n",
    "## Environment Variables\n",
    "\n",
    "Environment variables provide us with important context regarding our execution environment. They provide access to variables that describe and expose our system configuration.\n",
    "\n",
    "* `env` - print a list of all our enironment variables\n",
    "* `$<env_var_name>` - insert the value of the named environment variable here e.g.\n",
    "```\n",
    "echo \"My name is slim shady, I mean $USER.\"\n",
    "```\n",
    "\n",
    "Environment variables are also very useful for keeping confidential values and secrets separate from our scripts. They allow us to use these values without actually having their values in the scripts.\n"
   ]
  },
  {
   "cell_type": "markdown",
   "metadata": {
    "slideshow": {
     "slide_type": "slide"
    }
   },
   "source": [
    "<img src=\"https://upload.wikimedia.org/wikipedia/commons/b/b5/Crystal_Clear_app_ksirtet.png\" align=\"right\" width=\"64\" height=\"64\" />\n",
    "\n",
    "\n",
    "## Modifying Your Shell with \"The Source\"\n",
    "\n",
    "By default, your shell will contain only commands provided by your standard shell. It is possible and indeed, highly desireable, to load new sets of commands into your shell. For this magic, we use *some tasty sause*!\n",
    "\n",
    "* `source <file_name>` - Read and execute commands from `<file_name>` in the current shell environment.\n",
    "\n",
    "*Note*: Some operating systems also provide  `.` as  shortcut for this i.e. `. <file_name>`\n",
    "\n",
    "This allows us to load aliases and custom commands into our shell, and is often used in python to activate our virtual environments.\n",
    "```\n",
    "source venv/bin/activate\n",
    "```\n"
   ]
  },
  {
   "cell_type": "markdown",
   "metadata": {
    "slideshow": {
     "slide_type": "slide"
    }
   },
   "source": [
    "<img src=\"https://upload.wikimedia.org/wikipedia/commons/d/d8/Crystal_Project_Kshisen.png\" align=\"right\" width=\"64\" height=\"64\" />\n",
    "\n",
    "## Aliases\n",
    "\n",
    "Aliases give you a way to define your own commands by combining other commands. They are useful if you use similar sets of commands often, or want to simplify the use of complex commands.\n",
    "\n",
    "* `alias <name>='<commands>'` - Give the series of `<commands>` the alias `<name>`.\n",
    "\n",
    "For example:\n",
    "```\n",
    "alias makeenv=\"rm -rf venv/ && python3 -m venv venv && source venv/bin/acivate && pip install -r requirements.txt\"\n",
    "```\n",
    "Now when you type `makeenv`, a new python3 virtual environment will be created and the requirements installed into it.\n"
   ]
  },
  {
   "cell_type": "markdown",
   "metadata": {
    "slideshow": {
     "slide_type": "slide"
    }
   },
   "source": [
    "<img src=\"https://upload.wikimedia.org/wikipedia/commons/3/30/Crystal_Clear_app_kspaceduel.png\" align=\"right\" width=\"64\" height=\"64\" />\n",
    "\n",
    "## Summary \n",
    "\n",
    "This talk only touches the surface of what is possible with the tools available via POSIX compatible commands line utilities. It is an introduction, and far from comprehensive or detailed.\n",
    "\n",
    "Each one of these topics coud be a talk by iteself, but we hope this at least gives us a starting point for the wonderful journey into the deep, dark world that is the command line! \n",
    "\n",
    "Go forth and command!\n",
    "\n",
    "**Thank you**\n",
    "\n",
    "*Note*: This notebook is available under an `MIT License` and can be downloaded from [Zen-CODE's github repository](https://github.com/Zen-CODE/kivybits/blob/master/Talks/2020/Command%20Line%20Computing.ipynb).\n",
    "\n",
    "<img src=\"https://avatars0.githubusercontent.com/u/3539755?s=400&v=4\" align=\"center\" width=\"64\" height=\"64\" />"
   ]
  }
 ],
 "metadata": {
  "celltoolbar": "Slideshow",
  "kernelspec": {
   "display_name": "Python 3",
   "language": "python",
   "name": "python3"
  },
  "language_info": {
   "codemirror_mode": {
    "name": "ipython",
    "version": 3
   },
   "file_extension": ".py",
   "mimetype": "text/x-python",
   "name": "python",
   "nbconvert_exporter": "python",
   "pygments_lexer": "ipython3",
   "version": "3.7.7"
  },
  "toc": {
   "base_numbering": 1,
   "nav_menu": {},
   "number_sections": true,
   "sideBar": true,
   "skip_h1_title": false,
   "title_cell": "Table of Contents",
   "title_sidebar": "Contents",
   "toc_cell": false,
   "toc_position": {},
   "toc_section_display": true,
   "toc_window_display": false
  }
 },
 "nbformat": 4,
 "nbformat_minor": 2
}
