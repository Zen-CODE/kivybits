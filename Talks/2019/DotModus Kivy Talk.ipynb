{
 "cells": [
  {
   "cell_type": "markdown",
   "metadata": {
    "slideshow": {
     "slide_type": "slide"
    }
   },
   "source": [
    "<img src=\"https://kivy.org/logos/kivy-logo-black-64.png\" align=\"right\">\n",
    "\n",
    "# DotModus Devs and Bevs - Kivy\n",
    "\n",
    "<br />\n",
    "<img src=\"media/kivy.svg\" width=\"70%\" height=\"70%\" />\n",
    "<br />\n",
    "\n",
    "***Warning***: This may get long and technical, but we end with pretty vids and pics! Promise!\n",
    "\n",
    "\n"
   ]
  },
  {
   "cell_type": "markdown",
   "metadata": {
    "slideshow": {
     "slide_type": "slide"
    }
   },
   "source": [
    "<img src=\"media/cami_desktop.jpg\" align=\"right\" width=\"60%\" height=\"60%\">\n",
    "\n",
    "# Introduction\n",
    "## Why am I here?\n",
    "\n",
    "Good question. This picture helps with the answer.\n",
    "\n",
    "What do we have here?\n",
    "* One Python codebase\n",
    "* Native applications running on:\n",
    "  * Ubuntu 18.04- Mouse + Keyboard\n",
    "  * MSI Flxed Touch Screen (Ubuntu 18.04)\n",
    "  * Windows 10 Tablet\n",
    "  * MacOS 10.11 + MacOS 10.10\n",
    "  * Android 8.1\n",
    "  * An iPad running iOS 9.3\n",
    "* One happy developer\n"
   ]
  },
  {
   "cell_type": "markdown",
   "metadata": {
    "slideshow": {
     "slide_type": "slide"
    }
   },
   "source": [
    "<img src=\"https://upload.wikimedia.org/wikipedia/commons/f/fe/Crystal_Project_Amor.png\" width=\"128\" height=\"128\" align=\"right\"/>  \n",
    "\n",
    "## Why a Happy developer?\n",
    "\n",
    "This question is easy to answer.\n",
    "* I can write my whole application in one language - Python\n",
    "* I can deploy that application to (almost) any platform\n",
    "* It's a fast, native app using hardware acceleration\n",
    "* It's modern, highly responsive and supports multi-touch\n",
    "* It completely free, both financially and legally (MIT licensed)\n",
    "* Completely self-contained - depends upon nothing but a CPU, GPU + C compiler\n",
    "* It makes my dumb-ass able to write apps for almost anything"
   ]
  },
  {
   "cell_type": "markdown",
   "metadata": {
    "slideshow": {
     "slide_type": "slide"
    }
   },
   "source": [
    "## What is Kivy?\n",
    "<img src=\"media/website.png\" width=\"60%\" height=\"60%\" align=\"center\"/>  \n"
   ]
  },
  {
   "cell_type": "markdown",
   "metadata": {
    "slideshow": {
     "slide_type": "slide"
    }
   },
   "source": [
    "<img src=\"https://upload.wikimedia.org/wikipedia/commons/a/a8/Crystal_Clear_app_ksnake.png\" width=\"128\" height=\"128\" align=\"right\"/>  \n",
    "\n",
    "## Why is Kivy important?\n",
    "\n",
    "Kivy is important in various ways.\n",
    "\n",
    "* Kivy is the only option for running Python on mobile devices.\n",
    "* It's free of any vendor specific technology or dependency - Google, Apple or Microsoft.\n",
    "* It still allows you to use vendor specific technologies.\n",
    "* It's MIT licensed - 100% transparent from end-to-end.\n",
    "\n"
   ]
  },
  {
   "cell_type": "markdown",
   "metadata": {
    "slideshow": {
     "slide_type": "slide"
    }
   },
   "source": [
    "<img src=\"https://upload.wikimedia.org/wikipedia/commons/0/06/Crystal_Clear_app_kivio.png\" width=\"128\" height=\"128\" align=\"right\"/>  \n",
    "## How Does Kivy Work?\n",
    "\n",
    "Kivy takes a conceptually simple approach to minimizing OS dependencies.\n",
    "* Separates concerns into \"Core abstractions\"\n",
    "  * *InputProviders* - Mouse, touch, keyboard, Kinect, gyroscope etc.\n",
    "  * *Graphics Backends* - OpenGL ES 2.0 compatible providers (Supports DirectX11 via [Angle](https://opensource.google/projects/angle))\n",
    "  * *CoreProviders* - Window (SDL2), Text, Image, Audio, Video providers\n",
    "* Supplies a Python/Cython framework (as a library) which exposes *CoreProviders*\n",
    "* Supplies tools that produce OS specific bootstraps, which:\n",
    "  * produce a packaged Python/Cython interpreter.\n",
    "  * links to OS specific core providers.\n",
    "  * includes any pure Python requirements with that interpreter.\n",
    "  * compiles native OS binaries for C/C++/binary dependencies e.g. matplotlib, pillow for use on the target architecture.\n"
   ]
  },
  {
   "cell_type": "markdown",
   "metadata": {
    "slideshow": {
     "slide_type": "slide"
    }
   },
   "source": [
    "## Kivy Architecture\n",
    "\n",
    "<img src=\"media/architecture.png\" width=\"60%\" height=\"60%\" />"
   ]
  },
  {
   "cell_type": "markdown",
   "metadata": {
    "slideshow": {
     "slide_type": "slide"
    }
   },
   "source": [
    "<img src=\"https://upload.wikimedia.org/wikipedia/commons/1/1f/Crystal_Clear_app_All_software_is_current.png\" width=\"128\" height=\"128\" align=\"right\"/>  \n",
    "## Why Use Kivy?\n",
    "\n",
    "* It facilitates novel and exciting interactions\n",
    "  * Multi-touch, surface input\n",
    "  * Mouse + Keyboard\n",
    "  * 3D input via LeapMotion, Kinect or any other input provides\n",
    "* Allows for rich animation and multimedia experiences\n",
    "* Minimizes platform/OS differences - *no browser, widget toolkit quirks*\n",
    "* Simplifies testing and debugging - *one local process, no artificial backend/frontend split*\n",
    "* Carry UI/Framework learning across all platforms - *Android Fragments? iOS segmented controls? WPF? UWP? WTF???*\n",
    "* Open Source = you can fix your own problems\n"
   ]
  },
  {
   "cell_type": "markdown",
   "metadata": {
    "slideshow": {
     "slide_type": "slide"
    }
   },
   "source": [
    "<img src=\"https://upload.wikimedia.org/wikipedia/commons/8/8c/Crystal_Clear_app_help_index.png\" width=\"128\" height=\"128\" align=\"right\"/>\n",
    "\n",
    "## Why not use Kivy?\n",
    "\n",
    "Whilst Kivy is great for many things, but it's not the solution for all problems.\n",
    "* Does not adopt the \"look-and-feel\" of native apps.\n",
    "* No \"out-of-the-box\" OS integration i.e. It's possible, but not always simple to leverage OS specific features.\n",
    "* Typically lags behind OS \"bleeding-edge\" features.\n",
    "* Packaging for different OS's requires understanding, experimention and patience.\n",
    "* Open Source = you have to fix your own problems. There are Google Forums and Discord channels, but often, it's up to you!"
   ]
  },
  {
   "cell_type": "markdown",
   "metadata": {
    "slideshow": {
     "slide_type": "slide"
    }
   },
   "source": [
    "<img src=\"https://upload.wikimedia.org/wikipedia/commons/d/d2/Crystal_Clear_app_stylesheet.png\" width=\"128\" height=\"128\" align=\"right\"/>\n",
    "\n",
    "## Cross-Platform Options - HTML5\n",
    "\n",
    "HTML 5 solutions present various options for cross-platform deployment. These include:\n",
    "* Electron\n",
    "* Cordova\n",
    "* React\n",
    "* VueJS\n",
    "\n",
    "They provide a safe and tested method of using skills and technologies across devices. A full discussion of their pros and cons could take days, so we briefly mention some of their inherent benefits and limitations.\n",
    "\n",
    "### Pros\n",
    "* Re-use web skills and tech for mobile apps.\n",
    "* Minimal deployment size.\n",
    "* Extensive support and skills available.\n",
    "\n",
    "### Cons\n",
    "* Complex - many moving parts (Javascript, HTML5, CSS + Backend/PHP/Python/C# etc).\n",
    "* Difficult to debug (in browser, declarative layout, complex CSS layout model).\n",
    "* Scalability - Weakly typed, lack of namespacing, clumsy imports/scoping.\n",
    "* Browser compatibility.\n",
    "* Limited native OS integration (browser sandbox).\n",
    "* Not built for multi-touch or rich animation/interaction.\n",
    "\n",
    "*HTML is a document presentation format and was never designed for interaction. Interaction has been added as an afterthought, which becomes very clear if you try to develop web apps!*"
   ]
  },
  {
   "cell_type": "markdown",
   "metadata": {
    "slideshow": {
     "slide_type": "slide"
    }
   },
   "source": [
    "<img src=\"https://upload.wikimedia.org/wikipedia/commons/0/05/Crystal_Clear_app_package_games.png\" width=\"128\" height=\"128\" align=\"right\"/>\n",
    "\n",
    "## Comparison Against Cross-Platform Game Engines\n",
    "\n",
    "[Game engine](https://en.wikipedia.org/wiki/List_of_game_engines) options include:\n",
    "* Unity\n",
    "* Unreal\n",
    "* Godot\n",
    "* Cocos2d\n",
    "* MonoGame\n",
    "\n",
    "Game engines provide much more visual freedom, but often at the expense of ease-of-use.\n",
    "\n",
    "### Pros\n",
    "\n",
    "* Visual beauty and splendour.\n",
    "* Interactive freedom.\n",
    "* Scaleability.\n",
    "* Minimal cross platform quirks.\n",
    "* Widely used, with commercial support options available.\n",
    "* Local debugging and development.\n",
    "\n",
    "#### Cons\n",
    "\n",
    "* Steep learning curve - 3D abstractions, models, physics, framework concepts etc.\n",
    "* Heavyweight deployment.\n",
    "* Lack of familiar desktop/mobile interfaces.\n",
    "* Limited native OS integration.\n",
    "* Difficult to interact with non-game hardware."
   ]
  },
  {
   "cell_type": "markdown",
   "metadata": {
    "slideshow": {
     "slide_type": "slide"
    }
   },
   "source": [
    "<img src=\"https://upload.wikimedia.org/wikipedia/commons/a/a1/Crystal_Clear_action_editdelete.png\" width=\"128\" height=\"128\" align=\"right\"/>\n",
    "\n",
    "## When not to use Kivy\n",
    "\n",
    "We should always choose the best tool for the job at hand. It's great to love our tech, but it's essential that we understand it's limitations.\n",
    "\n",
    "Kivy is probably not suitable when:\n",
    "* You need tight integration with, or the latest iOS/Android features? Go Android/iOS tooling!\n",
    "* You want you app to look-and-feel like other apps? Go Android/iOS tooling!\n",
    "* Your app is thin on logic? Go webpage!\n",
    "* You need to avoid installation / deployment? Go webpage!\n",
    "* You already have the webpage? Go Cordova!"
   ]
  },
  {
   "cell_type": "markdown",
   "metadata": {
    "slideshow": {
     "slide_type": "slide"
    }
   },
   "source": [
    "<img src=\"https://upload.wikimedia.org/wikipedia/commons/3/30/Crystal_Clear_app_kspaceduel.png\" width=\"128\" height=\"128\" align=\"right\" />\n",
    "\n",
    "## Advantages of Kivy\n",
    "\n",
    "If your app contains heavy logic, wants to look sexy, or needs unique interaction, Kivy is a great fit.\n",
    "It has many concrete advantages, good use cases and benefits:\n",
    "\n",
    "* Well designed, consistent, fluid layout sematics (vs. CSS's \"!important\" tag? Are you serious?).\n",
    "* Modern, event-based architecture.\n",
    "* Access to complete range of Python libraries (*Note:* Some may require recipes).\n",
    "* Can access native OS functionality if required (See plyer/pyjnius/pyobjus later).\n",
    "* Build on desktop, easily deploy to mobile or multi-touch devices.\n",
    "* Use Python for simplicity, switch to Cython for speed (*do only if needed!*).\n",
    "* Full stack framework:\n",
    "  * Full GUI toolkit and runtime framework.\n",
    "  * [webdebugger](media/webdebugger.png) - runs an embedded Flask web server serving runtime statistics.\n",
    "  * [inpector](media/inspector.png) - real-time, interactive explorer of the GUI.\n",
    "  * [multistroke](https://kivy.org/doc/stable/api-kivy.multistroke.html) - a gesture lookup and recognition helper.\n",
    "* Rich Ecosystem of tools and libraries."
   ]
  },
  {
   "cell_type": "markdown",
   "metadata": {
    "slideshow": {
     "slide_type": "slide"
    }
   },
   "source": [
    "<img src=\"https://upload.wikimedia.org/wikipedia/commons/9/91/Crystal_Project_app_kfouleggs.png\" width=\"128\" height=\"128\" align=\"right\">\n",
    "\n",
    "## The Kivy Ecosystem\n",
    "\n",
    "The core Kivy framework is kept minimal, to avoid bloat and including non-essential code. Useful tools, packages and extensions are offered as sister projects.\n",
    "\n",
    "Some of these are:\n",
    "* [buildozer](https://github.com/kivy/buildozer) - Helps deploy kivy application, mainly Android APKs.\n",
    "* [kivy-ios](https://github.com/kivy/kivy-ios) - Builds XCode projects for iOS deployment.\n",
    "* [pyjnius](https://github.com/kivy/pyjnius) - Call Java (Android) from Python.\n",
    "* [pyobjus](https://github.com/kivy/pyobjus) - Call Objective C (iOS/MacOS) from Python.\n",
    "* [python-for-android](https://github.com/kivy/python-for-android) - Support core Android functions e.g. Services, Storage, Runtime permissions.\n",
    "* [plyer](https://github.com/kivy/plyer) - A platform-independent API to use features commonly found on various platforms, notably mobile.\n",
    "* [kivy-garden](https://github.com/kivy-garden) - A collection of public repos for kivy widgets and components."
   ]
  },
  {
   "cell_type": "markdown",
   "metadata": {
    "slideshow": {
     "slide_type": "slide"
    }
   },
   "source": [
    "<img src=\"https://upload.wikimedia.org/wikipedia/commons/4/45/Crystal_Clear_app_ktron.png\" width=\"128\" height=\"128\" align=\"right\" />\n",
    "\n",
    "## Noteworthy Kivy Projects\n",
    "\n",
    "Many exicting and inspiring Kivy projects are out there. A few of the more interesting include:\n",
    "\n",
    "* [Kivy 3D Gui](https://github.com/kpiorno/kivy3dgui) - Drop you Kivy UI onto 3D models, easily create 3D interacitons.\n",
    "* [Kivy GMaps](https://github.com/tito/kivy-gmaps) - Integrate Google Maps into Kivy applications.\n",
    "* [KivyMD](https://github.com/HeaTTheatR/KivyMD) - A Google Material Design widget set build in Kivy.\n",
    "* [QrScan](https://github.com/AndreMiras/QrScan) - QrCode scanner, built for Kivy, runs on iOS/Android/Desktop.\n",
    "* [Kivy Lite Emulator](https://github.com/mcroni/KivyLiteEmulator) - Test mobile device resolutions on your desktop.\n",
    "* [KivyStudio](https://github.com/mahart-studio/kivystudio) - Adevelopment environment targeted towards fast testing and interactive mobile development.\n",
    "* [Kivy Complete VM](https://github.com/Zen-CODE/kivybits/tree/master/KivyCompleteVM) - A VirtualBox appliance for building Android APK's with minimal setup.\n"
   ]
  },
  {
   "cell_type": "markdown",
   "metadata": {
    "slideshow": {
     "slide_type": "slide"
    }
   },
   "source": [
    "<img src=\"https://upload.wikimedia.org/wikipedia/commons/f/fb/Crystal_Clear_app_neotux.png\" width=\"128\" height=\"128\" align=\"right\" />\n",
    "\n",
    "## Kivy Showcase Examples\n",
    "\n",
    "These examples demonstate some of the amazing things Kivy can and is doing.\n",
    "\n",
    "* [RaceCapture Pro](https://www.youtube.com/watch?v=6a9wgjPYBag) by [Autosport Labs](https://www.autosportlabs.com/)\n",
    "* [Martelle Brandy Interactive Table](https://www.youtube.com/watch?v=dKWyYfvoakk) from Tangible Display\n",
    "* [Tangile Atoms](https://www.youtube.com/watch?v=H_WLRZb9K9w) - Tangiole Dispaly at French Museum of Natural History\n",
    "* [Tangile Data](https://www.youtube.com/watch?v=NRirWdGLhoI) - Tangible data exploration with HTML/FLask/JS graphing\n",
    "* [Mutlitouch Olympic Games](https://www.youtube.com/watch?v=Fc5NbRB_ivI) from Tangible Display\n",
    "* [Flightgear throttle + quadrant controller](https://www.youtube.com/watch?v=UxyHnvBo07s)\n",
    "* [Rasberry Pi + Arduino controlelr](https://www.youtube.com/watch?v=Eah3Zq18OyM)\n",
    "* [Yeco Touch for Ableton Live](http://www.yeco.io/)\n",
    "* [2048 on the Galaxy gear](https://www.youtube.com/watch?v=O_uGVCmQK4s&t=18s) from tshirtman\n"
   ]
  },
  {
   "cell_type": "markdown",
   "metadata": {
    "slideshow": {
     "slide_type": "slide"
    }
   },
   "source": [
    "<img src=\"https://upload.wikimedia.org/wikipedia/commons/0/0d/Crystal_Clear_app_launch.png\" width=\"128\" height=\"128\" align=\"right\"/>  \n",
    "\n",
    "## In Summary\n",
    "\n",
    "In summary, Kivy is a win on so many levels.\n",
    "\n",
    "* One Python code base everywhere - Android/iOS/Win/Mac/Linux/Pi\n",
    "* Open Source MIT license, from Code to complier\n",
    "* Designed, modern, consistent, event-driven Framework\n",
    "* Rich multimedia, multi-touch + interacive ability\n",
    "  * Surfaces, wearables, mobiles\n",
    "  * Edge computing, novel devices\n",
    "* Easy interation with low level devices/hardware via Cython/Pyobjus/Pyjnius\n",
    "* Design, test and debug locally.\n"
   ]
  },
  {
   "cell_type": "markdown",
   "metadata": {
    "slideshow": {
     "slide_type": "slide"
    }
   },
   "source": [
    "<img src=\"https://upload.wikimedia.org/wikipedia/commons/f/fd/Crystal_Project_konquest.png\" width=\"128\" height=\"128\" align=\"right\" />\n",
    "\n",
    "# In Closing\n",
    "\n",
    "By developing Kivy skills inhouse, I believe DotModus could:\n",
    "* deliver Android, iOS, Windows and Mac applicaiton with one skill set.\n",
    "* supply touch devices (Pi + Touch screen) as hardware contollers / appliances.\n",
    "* deliver large interactive displays.\n",
    "* fondle their python in public.\n",
    "\n",
    "<center>From a personal perpective, Kivy gives Python developers unrivalled abilites to deliver attractive, exciting GUI applications with complete freedom.</center>\n",
    "\n",
    "<center><font color=\"yellow\">** Open Source for the WIN **</font></center>\n"
   ]
  },
  {
   "cell_type": "markdown",
   "metadata": {
    "slideshow": {
     "slide_type": "slide"
    }
   },
   "source": [
    "<img src=\"media/zen-code.jpg\" width=\"128\" height=\"128\" align=\"right\" />\n",
    "\n",
    "## Thank you\n",
    "\n",
    "To Kivy users, I'm known as Zen-CODE.\n",
    "\n",
    "Find me on Github:  https://github.com/Zen-CODE\n",
    "\n",
    "This presentation is available as a Jupyter notebook at https://github.com/Zen-CODE/kivybits/tree/master/Talks/2019\n",
    "\n",
    "Thank you for listening to my rants.\n",
    "\n",
    "Your patience is appreciated."
   ]
  }
 ],
 "metadata": {
  "celltoolbar": "Slideshow",
  "kernelspec": {
   "display_name": "Python 3",
   "language": "python",
   "name": "python3"
  },
  "language_info": {
   "codemirror_mode": {
    "name": "ipython",
    "version": 3
   },
   "file_extension": ".py",
   "mimetype": "text/x-python",
   "name": "python",
   "nbconvert_exporter": "python",
   "pygments_lexer": "ipython3",
   "version": "3.6.8"
  }
 },
 "nbformat": 4,
 "nbformat_minor": 2
}
